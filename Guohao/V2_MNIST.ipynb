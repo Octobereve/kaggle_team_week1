{
 "cells": [
  {
   "cell_type": "code",
   "execution_count": 160,
   "metadata": {},
   "outputs": [],
   "source": [
    "import pandas as pd\n",
    "import numpy as np\n",
    "import matplotlib.pyplot as plt\n",
    "%matplotlib inline\n",
    "\n",
    "import tensorflow as tf\n",
    "from sklearn.model_selection import StratifiedShuffleSplit\n",
    "from sklearn.preprocessing import StandardScaler"
   ]
  },
  {
   "cell_type": "code",
   "execution_count": 161,
   "metadata": {},
   "outputs": [],
   "source": [
    "# load data\n",
    "mnist_train = pd.read_csv('train.csv')\n",
    "mnist_test = pd.read_csv('test.csv')"
   ]
  },
  {
   "cell_type": "code",
   "execution_count": 162,
   "metadata": {},
   "outputs": [
    {
     "data": {
      "text/plain": [
       "0.4"
      ]
     },
     "execution_count": 162,
     "metadata": {},
     "output_type": "execute_result"
    }
   ],
   "source": [
    "# calculate the ratio of test data\n",
    "len(mnist_test)/(len(mnist_test) + len(mnist_train))"
   ]
  },
  {
   "cell_type": "code",
   "execution_count": 163,
   "metadata": {},
   "outputs": [],
   "source": [
    "# split the train data according to the ratio 0.4\n",
    "split = StratifiedShuffleSplit(n_splits=1, test_size=0.4)"
   ]
  },
  {
   "cell_type": "code",
   "execution_count": 180,
   "metadata": {},
   "outputs": [],
   "source": [
    "# generate validation set\n",
    "for train_index, validate_index in split.split(mnist_train, mnist_train['label']):\n",
    "    train_data = mnist_train.loc[train_index]\n",
    "    validate_data = mnist_train.loc[validate_index]"
   ]
  },
  {
   "cell_type": "code",
   "execution_count": 181,
   "metadata": {},
   "outputs": [],
   "source": [
    "train_label = train_data['label']\n",
    "train_data.drop('label', axis=1, inplace = True)\n",
    "train_label.reset_index(drop=True, inplace=True)\n",
    "train_data.reset_index(drop=True, inplace=True)"
   ]
  },
  {
   "cell_type": "code",
   "execution_count": 182,
   "metadata": {},
   "outputs": [],
   "source": [
    "validate_label = validate_data['label']\n",
    "validate_data.drop('label', axis=1, inplace = True)\n",
    "validate_label.reset_index(drop=True, inplace=True)\n",
    "validate_data.reset_index(drop=True, inplace=True)"
   ]
  },
  {
   "cell_type": "code",
   "execution_count": 183,
   "metadata": {},
   "outputs": [],
   "source": [
    "all_train = np.concatenate([train_data, validate_data])\n",
    "all_label = np.concatenate([train_label, validate_label])"
   ]
  },
  {
   "cell_type": "code",
   "execution_count": 173,
   "metadata": {},
   "outputs": [],
   "source": [
    "pic = np.array(train_data.loc[3555]).reshape(28,28)"
   ]
  },
  {
   "cell_type": "code",
   "execution_count": 174,
   "metadata": {},
   "outputs": [
    {
     "data": {
      "text/plain": [
       "<matplotlib.image.AxesImage at 0x5e5b7ba8>"
      ]
     },
     "execution_count": 174,
     "metadata": {},
     "output_type": "execute_result"
    },
    {
     "data": {
      "image/png": "[encoded data removed]",
      "text/plain": [
       "<Figure size 432x288 with 1 Axes>"
      ]
     },
     "metadata": {
      "needs_background": "light"
     },
     "output_type": "display_data"
    }
   ],
   "source": [
    "plt.imshow(pic,cmap = matplotlib.cm.binary)"
   ]
  },
  {
   "cell_type": "code",
   "execution_count": 135,
   "metadata": {},
   "outputs": [],
   "source": [
    "# this function is for tweaking the parameters\n",
    "# use a loop to try different parameters\n",
    "def NN_model_on_train_set(n_neurons_1=300, n_neurons_2 = 100, learning_rate = 0.01, n_epochs = 30, batch_size = 50):\n",
    "    # here we build a two layers NN model and test on validation set, you may improve it to a CV version\n",
    "    # n_neurons_1 : number of neurons in the first layer\n",
    "    # n_neurons_2  : number of neurons in the second layer\n",
    "    # learning_rate : the learning rate of BGD\n",
    "    # n_epochs : times of training the model\n",
    "    # batch_size : since we adopted BGD, then we need to define the size of a size\n",
    "    # initialize variables\n",
    "    X = tf.placeholder(tf.float32, shape=(None, 28*28), name='X')\n",
    "    y = tf.placeholder(tf.int64, shape=(None), name = 'y')\n",
    "\n",
    "    # weights\n",
    "    W1 = tf.Variable(tf.truncated_normal((28*28, n_neurons_1),stddev = 0.01), name = 'layer_1')\n",
    "    W2 = tf.Variable(tf.truncated_normal((n_neurons_1, n_neurons_2),stddev = 0.01), name = 'layer_2')\n",
    "    W3 = tf.Variable(tf.truncated_normal((n_neurons_2 , 10),stddev = 0.01), name = 'output_layer')\n",
    "\n",
    "    # biases\n",
    "    b1 = tf.Variable(tf.zeros([n_neurons_1]), name='b_1')\n",
    "    b2 = tf.Variable(tf.zeros([n_neurons_2]), name='b_2')\n",
    "    b3 = tf.Variable(tf.zeros([10]), name='b_3')\n",
    "\n",
    "    # the output of each layer\n",
    "    Z1 = tf.nn.relu(tf.matmul(X,W1) + b1)\n",
    "    Z2 = tf.nn.relu(tf.matmul(Z1, W2) + b2)\n",
    "    output = tf.matmul(Z2, W3) + b3\n",
    "\n",
    "    # define loss function. Cross-entropy was adopted rather than MSE\n",
    "    xentropy = tf.nn.sparse_softmax_cross_entropy_with_logits(labels = y, logits = output)\n",
    "    loss = tf.reduce_mean(xentropy, name='loss')\n",
    "\n",
    "    # optimizer\n",
    "    optimizer = tf.train.GradientDescentOptimizer(learning_rate)\n",
    "    training_op = optimizer.minimize(loss)\n",
    "\n",
    "    # define accuracy\n",
    "    correct = tf.nn.in_top_k(output, y, 1)\n",
    "    accuracy = tf.reduce_mean(tf.cast(correct, tf.float32))\n",
    "\n",
    "    # run everything\n",
    "    init = tf.global_variables_initializer()\n",
    "    with tf.Session() as sess:\n",
    "        init.run()\n",
    "        for epoch in range(n_epochs):\n",
    "            for iteration in range(len(train_data) // batch_size):\n",
    "                # 因为要batchSize=50个50个的取，取到末尾时可能不够，所以用个if判定一下\n",
    "                if (iteration + 1) * batch_size <= len(train_data):\n",
    "                    X_batch = np.array(train_data[iteration * batch_size : iteration * batch_size + batch_size])\n",
    "                    y_batch = np.array(train_label[iteration * batch_size : iteration * batch_size + batch_size])\n",
    "                else:\n",
    "                    X_batch = np.array(train_data[iteration * batch_size : ])\n",
    "                    y_batch = np.array(train_label[iteration * batch_size : ])\n",
    "                sess.run(training_op, feed_dict={X:X_batch, y:y_batch})\n",
    "            # train error\n",
    "            acc_train = accuracy.eval(feed_dict={X:X_batch, y:y_batch})\n",
    "            # test error\n",
    "            acc_test = accuracy.eval(feed_dict={X:np.array(validate_data),\n",
    "                                               y:np.array(validate_label)})\n",
    "            print(epoch, 'Train accuracy:', acc_train, 'Test accuracy:', acc_test)"
   ]
  },
  {
   "cell_type": "code",
   "execution_count": 175,
   "metadata": {},
   "outputs": [],
   "source": [
    "# this function is for making the prediction\n",
    "def NN_model_to_predict(n_neurons_1=300, n_neurons_2 = 100, learning_rate = 0.01, n_epochs = 30, batch_size = 50):\n",
    "    # here we build a two layers NN model and test on validation set, you may improve it to a CV version\n",
    "    # n_neurons_1 : number of neurons in the first layer\n",
    "    # n_neurons_2  : number of neurons in the second layer\n",
    "    # learning_rate : the learning rate of BGD\n",
    "    # n_epochs : times of training the model\n",
    "    # batch_size : since we adopted BGD, then we need to define the size of a size\n",
    "    # initialize variables\n",
    "    X = tf.placeholder(tf.float32, shape=(None, 28*28), name='X')\n",
    "    y = tf.placeholder(tf.int64, shape=(None), name = 'y')\n",
    "\n",
    "    # weights\n",
    "    W1 = tf.Variable(tf.truncated_normal((28*28, n_neurons_1),stddev = 0.01), name = 'layer_1')\n",
    "    W2 = tf.Variable(tf.truncated_normal((n_neurons_1, n_neurons_2),stddev = 0.01), name = 'layer_2')\n",
    "    W3 = tf.Variable(tf.truncated_normal((n_neurons_2 , 10),stddev = 0.01), name = 'output_layer')\n",
    "\n",
    "    # biases\n",
    "    b1 = tf.Variable(tf.zeros([n_neurons_1]), name='b_1')\n",
    "    b2 = tf.Variable(tf.zeros([n_neurons_2]), name='b_2')\n",
    "    b3 = tf.Variable(tf.zeros([10]), name='b_3')\n",
    "\n",
    "    # the output of each layer\n",
    "    Z1 = tf.nn.relu(tf.matmul(X,W1) + b1)\n",
    "    Z2 = tf.nn.relu(tf.matmul(Z1, W2) + b2)\n",
    "    output = tf.matmul(Z2, W3) + b3\n",
    "\n",
    "    # define loss function. Cross-entropy was adopted rather than MSE\n",
    "    xentropy = tf.nn.sparse_softmax_cross_entropy_with_logits(labels = y, logits = output)\n",
    "    loss = tf.reduce_mean(xentropy, name='loss')\n",
    "\n",
    "    # optimizer\n",
    "    optimizer = tf.train.GradientDescentOptimizer(learning_rate)\n",
    "    training_op = optimizer.minimize(loss)\n",
    "\n",
    "    # define accuracy\n",
    "    correct = tf.nn.in_top_k(output, y, 1)\n",
    "    accuracy = tf.reduce_mean(tf.cast(correct, tf.float32))\n",
    "\n",
    "    init = tf.global_variables_initializer()\n",
    "    with tf.Session() as sess:\n",
    "        init.run()\n",
    "        for epoch in range(n_epochs):\n",
    "            for iteration in range(len(train_data) // batch_size):\n",
    "                if (iteration + 1) * batch_size <= len(train_data):\n",
    "                    X_batch = np.array(all_train[iteration * batch_size : iteration * batch_size + batch_size])\n",
    "                    y_batch = np.array(all_label[iteration * batch_size : iteration * batch_size + batch_size])\n",
    "                else:\n",
    "                    X_batch = np.array(all_train[iteration * batch_size : ])\n",
    "                    y_batch = np.array(all_label[iteration * batch_size : ])\n",
    "                sess.run(training_op, feed_dict={X:X_batch, y:y_batch})\n",
    "            acc_train = accuracy.eval(feed_dict={X:X_batch, y:y_batch})\n",
    "\n",
    "\n",
    "        predict_output = sess.run(output,feed_dict={X:np.array(mnist_test)})\n",
    "        return np.argmax(predict_output, axis= 1)"
   ]
  },
  {
   "cell_type": "code",
   "execution_count": 176,
   "metadata": {},
   "outputs": [],
   "source": [
    "prediction = NN_model_to_predict(n_neurons_1=300, n_neurons_2 = 100, learning_rate = 0.01, n_epochs = 50, batch_size = 50)"
   ]
  },
  {
   "cell_type": "code",
   "execution_count": 178,
   "metadata": {},
   "outputs": [],
   "source": [
    "df = pd.DataFrame({'ImageId': [i for i in range(1,len(prediction)+1)],\n",
    "                  'Label': prediction})"
   ]
  },
  {
   "cell_type": "code",
   "execution_count": 179,
   "metadata": {},
   "outputs": [],
   "source": [
    "df.to_csv('./my_prediction.csv', index=None)"
   ]
  }
 ],
 "metadata": {
  "kernelspec": {
   "display_name": "Python 3",
   "language": "python",
   "name": "python3"
  },
  "language_info": {
   "codemirror_mode": {
    "name": "ipython",
    "version": 3
   },
   "file_extension": ".py",
   "mimetype": "text/x-python",
   "name": "python",
   "nbconvert_exporter": "python",
   "pygments_lexer": "ipython3",
   "version": "3.6.6"
  }
 },
 "nbformat": 4,
 "nbformat_minor": 2
}
